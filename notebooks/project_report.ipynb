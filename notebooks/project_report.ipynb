{
 "cells": [
  {
   "cell_type": "markdown",
   "id": "314729b5",
   "metadata": {},
   "source": [
    "# ChemCluster Project Report\n",
    "\n",
    "**CH-200 – Practical Programming in Chemistry**  \n",
    "**Group:** Elisa Rubbia, Romain Guichonnet, Flavia Zabala Perez  \n",
    "**Date:** May 2025"
   ]
  },
  {
   "cell_type": "markdown",
   "id": "f36bfba9",
   "metadata": {},
   "source": [
    "This project was created as part of the CH-200 “Practical Programming in Chemistry” course at EPFL. It integrates cheminformatics tools such as RDKit, scikit-learn, and Streamlit to build a web-based app that is both accessible and extensible. Throughout this report, we demonstrate how ChemCluster can assist in typical tasks of early-stage drug discovery or structure–property exploration.\n"
   ]
  },
  {
   "cell_type": "markdown",
   "id": "558cb3fd",
   "metadata": {},
   "source": [
    "---\n",
    "#  Table of Contents\n",
    "\n",
    "1. Setup and Initialization  \n",
    "  1.1 Installation from PyPI  \n",
    "  1.2 Running Locally from Source  \n",
    "\n",
    "2. Dataset Mode – Analysis of Molecular Libraries  \n",
    "  2.1 Data Input and Preprocessing  \n",
    "  2.2 Descriptor Calculation and Fingerprint Generation  \n",
    "  2.3 Dimensionality Reduction  \n",
    "  2.4 Clustering with KMeans  \n",
    "  2.5 Visualization and Molecule Inspection  \n",
    "  2.6 Cluster Filtering by Properties  \n",
    "  2.7 Export Functionality  \n",
    "\n",
    "3. Single Molecule Mode – Conformer Generation and Visualization  \n",
    "  3.1 Molecular Input  \n",
    "  3.2 Conformer Generation  \n",
    "  3.3 Conformer Clustering  \n",
    "  3.4 Visualization of Centroids  \n",
    "  3.5 Property Calculation for Centroids  \n",
    "\n",
    "4. Results and Observations  \n",
    "  4.1 Interface Overview  \n",
    "  4.2 Dataset Mode – Clustering a Molecular Library  \n",
    "  4.3 Single Molecule Mode – Conformer Clustering  \n",
    "\n",
    "5. Underlying Algorithms and Tools  \n",
    "  5.1 Principal Component Analysis (PCA)  \n",
    "  5.2 KMeans Clustering  \n",
    "  5.3 Tanimoto Similarity and Fingerprints  \n",
    "  5.4 Butina Clustering  \n",
    "  5.5 Interactive Visualization Tools  \n",
    "\n",
    "6. Testing and Validation  \n",
    "  6.1 Coverage and Scope  \n",
    "  6.2 Example Test Snippet  \n",
    "\n",
    "7. Challenges Faced  \n",
    "\n",
    "8. Conclusion and Outlook\n"
   ]
  },
  {
   "cell_type": "markdown",
   "id": "4622c760",
   "metadata": {},
   "source": [
    "--- \n",
    "\n",
    "## Welcome to ChemCluster!\n",
    "\n",
    "ChemCluster is a streamlined and interactive platform designed to facilitate the analysis and visualization of chemical datasets using molecular clustering techniques. It leverages the power of **RDKit** for cheminformatics and **Streamlit** for web interface deployment, offering an intuitive solution for researchers and students alike.\n",
    "\n",
    "Two main modes of operation are supported by the platform:\n",
    "\n",
    "- **Dataset Mode**: This mode allows users to upload datasets (in `.sdf`, `.mol` or `.csv` format) containing multiple molecular structures.  The molecules are processed to compute their key physicochemical descriptors, then clustered based on these properties. The resulting clusters are visualized interactively, and users can explore individual structures along with their 2D/3D representations and calculated properties.\n",
    "- **Single Molecule Mode**: In this workflow, ChemCluster generates a set of conformers for a single input molecule. These conformers are clustered based on structural similarity, and representative structures are visualized in  3D, enabling users to analyze conformational diversity effectively.\n"
   ]
  },
  {
   "cell_type": "markdown",
   "id": "3dcc0bb6",
   "metadata": {},
   "source": [
    "---\n",
    "\n",
    "## 1. Setup and Initialization\n",
    "\n",
    "To begin using ChemCluster, you have two options: installation via PyPI or running the application locally from source.\n",
    "\n",
    "### 1.1 Installation from PyPI\n",
    "The simplest way to install ChemCluster is through the Python Package Index. In a terminal or command prompt, run:"
   ]
  },
  {
   "cell_type": "markdown",
   "id": "dbf3ced2",
   "metadata": {},
   "source": [
    "```bash\n",
    "pip install chemcluster\n",
    "```"
   ]
  },
  {
   "cell_type": "markdown",
   "id": "b3603c21",
   "metadata": {},
   "source": [
    "\n",
    "Once installed, you can launch the application by executing:"
   ]
  },
  {
   "cell_type": "markdown",
   "id": "a68125c9",
   "metadata": {},
   "source": [
    "```bash \n",
    "chemcluster\n",
    "```\n"
   ]
  },
  {
   "cell_type": "markdown",
   "id": "7f94de1f",
   "metadata": {},
   "source": [
    "This command will open the ChemCluster interface directly in your default web browser.\n",
    "\n",
    "### 1.2 Running Locally from Source (for Development or Contribution)\n",
    "If you prefer to contribute to the project or wish to run it locally in a development environment, follow these steps:\n",
    "1. Clone the repository from GitHub:"
   ]
  },
  {
   "cell_type": "markdown",
   "id": "4572bef8",
   "metadata": {},
   "source": [
    "```bash\n",
    "git clone https://github.com/erubbia/chemcluster\n",
    "```"
   ]
  },
  {
   "cell_type": "markdown",
   "id": "7d12db56",
   "metadata": {},
   "source": [
    "2. Navigate into the project directory:\n"
   ]
  },
  {
   "cell_type": "markdown",
   "id": "09c0e8d5",
   "metadata": {},
   "source": [
    "```bash\n",
    "cd chemcluster\n",
    "```\n"
   ]
  },
  {
   "cell_type": "markdown",
   "id": "06a33bdf",
   "metadata": {},
   "source": [
    "3. Create a conda environment based on the project's environment file:"
   ]
  },
  {
   "cell_type": "markdown",
   "id": "e14ef15d",
   "metadata": {},
   "source": [
    "```bash \n",
    "conda env create -f environment.yml\n",
    "```"
   ]
  },
  {
   "cell_type": "markdown",
   "id": "836201eb",
   "metadata": {},
   "source": [
    "4. Activate the newly created environment:"
   ]
  },
  {
   "cell_type": "markdown",
   "id": "dda460ff",
   "metadata": {},
   "source": [
    "```bash \n",
    "conda activate chemcluster-env\n",
    "```"
   ]
  },
  {
   "cell_type": "markdown",
   "id": "9f2fa248",
   "metadata": {},
   "source": [
    "5. Finally, install the project in editable mode:"
   ]
  },
  {
   "cell_type": "markdown",
   "id": "e32b3df6",
   "metadata": {},
   "source": [
    "```bash \n",
    "pip install -e .\n",
    "```"
   ]
  },
  {
   "cell_type": "markdown",
   "id": "6588ed84",
   "metadata": {},
   "source": [
    "After this setup, you can launch ChemCluster the same way by running `chemcluster` in the terminal."
   ]
  },
  {
   "cell_type": "markdown",
   "id": "4f00e988",
   "metadata": {},
   "source": [
    "---\n",
    "\n",
    "## 2. Dataset Mode – Analysis of Molecular Libraries"
   ]
  },
  {
   "cell_type": "markdown",
   "id": "abbd6325",
   "metadata": {},
   "source": [
    "\n",
    "The dataset mode enables users to upload and analyze molecular datasets containing multiple compounds. This mode is suitable for exploring the diversity of a chemical library, identifying representative clusters, and filtering molecules based on specific chemical properties.\n",
    "\n",
    "The clustering workflow is based on molecular descriptors derived from circular fingerprints, and involves dimensionality reduction and unsupervised clustering. Molecules within clusters can be interactively explored and exported for further analysis."
   ]
  },
  {
   "cell_type": "markdown",
   "id": "fa47ef12",
   "metadata": {},
   "source": [
    "### 2.1 Data Input and Preprocessing\n",
    "Users can upload molecular datasets in `.csv`, `.sdf`, or `.mol` formats. For `.csv` files, the application searches for a column named `SMILES` or similar, and converts each string into an RDKit `Mol` object. These are then passed through the `clean_smiles_list()` function, which removes invalid or unreadable entries to ensure robust downstream processing."
   ]
  },
  {
   "cell_type": "code",
   "execution_count": null,
   "id": "6845da2a",
   "metadata": {},
   "outputs": [],
   "source": [
    "from chemcluster import clean_smiles_list\n",
    "mols, smiles_list = clean_smiles_list(smiles_column)"
   ]
  },
  {
   "cell_type": "markdown",
   "id": "fa2fe325",
   "metadata": {},
   "source": [
    "### 2.2 Descriptor Calculation and Fingerprint Generation\n",
    "Each valid molecule is encoded into a binary fingerprint vector using RDKit's implementation of Morgan fingerprints. This is achieved via the `get_fingerprint()` function, which returns a 2048-bit representation capturing the molecular environment of atoms.\n",
    "\n",
    "The similarity between all pairs of molecules is then calculated using the Tanimoto coefficient, a widely used metric for binary vector comparison:"
   ]
  },
  {
   "cell_type": "code",
   "execution_count": null,
   "id": "f36ef4f1",
   "metadata": {},
   "outputs": [],
   "source": [
    "from chemcluster import get_fingerprint\n",
    "fps = [get_fingerprint(mol) for mol in mols]\n",
    "from rdkit import DataStructs\n",
    "similarity = DataStructs.TanimotoSimilarity(fps[i], fps[j])"
   ]
  },
  {
   "cell_type": "markdown",
   "id": "f573112e",
   "metadata": {},
   "source": [
    "These similarities are converted into a distance matrix by computing `1 - similarity`, which serves as input for PCA."
   ]
  },
  {
   "cell_type": "markdown",
   "id": "a0390118",
   "metadata": {},
   "source": [
    "### 2.3 Dimensionality Reduction\n",
    "To facilitate visualization and clustering, the high-dimensional distance matrix is projected into a 2D space using Principal Component Analysis (PCA). PCA reduces the complexity of the data while retaining the directions of maximum variance.\n",
    "\n",
    "The transformation is performed using `sklearn.decomposition.PCA`, producing 2D coordinates that reflect the relative positions of molecules in descriptor space:"
   ]
  },
  {
   "cell_type": "code",
   "execution_count": null,
   "id": "fb7372f2",
   "metadata": {},
   "outputs": [],
   "source": [
    "from sklearn.decomposition import PCA\n",
    "coords = PCA(n_components=2).fit_transform(dist_matrix)"
   ]
  },
  {
   "cell_type": "markdown",
   "id": "57db2a0b",
   "metadata": {},
   "source": [
    "### 2.4 Clustering with KMeans\n",
    "Molecules are grouped into clusters using the KMeans algorithm from `sklearn.cluster`. The optimal number of clusters `k` is determined by evaluating the silhouette score over a range of possible values (typically k = 2 to 10). The silhouette score quantifies both the cohesion within clusters and the separation between them."
   ]
  },
  {
   "cell_type": "code",
   "execution_count": null,
   "id": "c85f5048",
   "metadata": {},
   "outputs": [],
   "source": [
    "from sklearn.cluster import KMeans\n",
    "from sklearn.metrics import silhouette_score\n",
    "best_k, best_score = 2, -1\n",
    "for k in range(2, 11):\n",
    "    model = KMeans(n_clusters=k).fit(coords)\n",
    "    score = silhouette_score(coords, model.labels_)\n",
    "    if score > best_score:\n",
    "        best_k, best_score = k, score\n",
    "labels = KMeans(n_clusters=best_k).fit_predict(coords)"
   ]
  },
  {
   "cell_type": "markdown",
   "id": "2a22119d",
   "metadata": {},
   "source": [
    "### 2.5 Visualization and Molecule Inspection\n",
    "The clustering results are displayed as a 2D scatter plot using Plotly, where each point corresponds to a molecule in PCA space. The `plotly_events()` function captures user clicks on individual points, triggering the display of the molecule’s structure, 3D viewer, and properties."
   ]
  },
  {
   "cell_type": "code",
   "execution_count": null,
   "id": "e4db76e5",
   "metadata": {},
   "outputs": [],
   "source": [
    "from streamlit_plotly_events import plotly_events\n",
    "selected_points = plotly_events(fig, click_event=True)"
   ]
  },
  {
   "cell_type": "markdown",
   "id": "3bbfe7dd",
   "metadata": {},
   "source": [
    "This interactivity enables quick identification and inspection of interesting chemical structures."
   ]
  },
  {
   "cell_type": "markdown",
   "id": "b53e23e3",
   "metadata": {},
   "source": [
    "### 2.6 Cluster Filtering by Properties\n",
    "For each cluster, ChemCluster calculates the average values of selected molecular descriptors using the `calculate_properties()` function. This information is used to filter clusters that match user-defined criteria, such as high LogP or low TPSA."
   ]
  },
  {
   "cell_type": "code",
   "execution_count": null,
   "id": "72f9ad36",
   "metadata": {},
   "outputs": [],
   "source": [
    "cluster_props_summary = {}\n",
    "for c in set(labels):\n",
    "    idxs = [i for i, lbl in enumerate(labels) if lbl == c]\n",
    "    props = [calculate_properties(mols[i]) for i in idxs]\n",
    "    df = pd.DataFrame(props).select_dtypes(include='number')\n",
    "    cluster_props_summary[c] = df.mean()"
   ]
  },
  {
   "cell_type": "markdown",
   "id": "592bdf0e",
   "metadata": {},
   "source": [
    "### 2.7 Export Functionality\n",
    "The filtered clusters and their associated molecular data can be exported in `.csv` format for documentation or further analysis. This is handled using Pandas’ `to_csv()` method and Streamlit’s `download_button()`:"
   ]
  },
  {
   "cell_type": "code",
   "execution_count": null,
   "id": "130bb483",
   "metadata": {},
   "outputs": [],
   "source": [
    "csv = cluster_df.to_csv(index=False).encode('utf-8')\n",
    "st.download_button(\"Download Cluster Molecules\", data=csv,\n",
    "                   file_name=\"cluster_data.csv\", mime=\"text/csv\")"
   ]
  },
  {
   "cell_type": "markdown",
   "id": "169e9aea",
   "metadata": {},
   "source": [
    "Once a molecular dataset is uploaded, ChemCluster automatically processes the molecules, removes invalid entries, and calculates structural fingerprints. These fingerprints are then compared using Tanimoto similarity, producing a distance matrix that captures how chemically close each molecule is to the others.\n",
    "\n",
    "This matrix is reduced into two dimensions using PCA, allowing clusters of structurally similar molecules to emerge in a scatter plot. Users can click directly on any point to view the 2D and 3D structure of a molecule, as well as its properties.\n",
    "\n",
    "Moreover, ChemCluster calculates average property values for each cluster and allows users to filter clusters matching specific criteria, such as high logP or low polar surface area (TPSA). These refined groups can then be exported for documentation or further cheminformatics work."
   ]
  },
  {
   "cell_type": "markdown",
   "id": "a09a700e",
   "metadata": {},
   "source": [
    "---\n",
    "## 3. Single Molecule Mode – Conformer Generation and Visualization"
   ]
  },
  {
   "cell_type": "markdown",
   "id": "da976e02",
   "metadata": {},
   "source": [
    "In Single Molecule Mode, ChemCluster allows users to enter or draw a molecule, generate 3D conformers, perform clustering based on conformational similarity, and visualize representative conformations.\n",
    "\n",
    "This mode is particularly useful for analyzing the conformational landscape of flexible molecules or inspecting representative shapes for downstream modeling."
   ]
  },
  {
   "cell_type": "markdown",
   "id": "11ef6dfb",
   "metadata": {},
   "source": [
    "### 3.1 Molecular Input\n",
    "The user can enter a molecule via a SMILES string or draw it interactively using an embedded chemical editor. The SMILES string is parsed with RDKit to generate a `Mol` object."
   ]
  },
  {
   "cell_type": "code",
   "execution_count": null,
   "id": "60c9e29c",
   "metadata": {},
   "outputs": [],
   "source": [
    "from rdkit import Chem\n",
    "mol = Chem.MolFromSmiles(\"CCO\")"
   ]
  },
  {
   "cell_type": "markdown",
   "id": "7bf28163",
   "metadata": {},
   "source": [
    "### 3.2 Conformer Generation\n",
    "RDKit's ETKDG algorithm is used to generate multiple conformers for the input molecule. Explicit hydrogen atoms are added prior to embedding to improve 3D accuracy. The user can specify the number of conformers to be generated.\n"
   ]
  },
  {
   "cell_type": "code",
   "execution_count": null,
   "id": "a0af2bf1",
   "metadata": {},
   "outputs": [],
   "source": [
    "from rdkit.Chem import AllChem\n",
    "mol = Chem.AddHs(mol)\n",
    "cids = AllChem.EmbedMultipleConfs(mol, numConfs=50, randomSeed=42)\n",
    "AllChem.UFFOptimizeMoleculeConfs(mol)"
   ]
  },
  {
   "cell_type": "markdown",
   "id": "7dc3f246",
   "metadata": {},
   "source": [
    "### 3.3 Conformer Clustering\n",
    "The conformers are clustered based on their pairwise RMSD values using the Butina clustering algorithm. This allows identification of conformational families. The conformer with the lowest average RMSD within each cluster is selected as the centroid."
   ]
  },
  {
   "cell_type": "code",
   "execution_count": null,
   "id": "ff7485de",
   "metadata": {},
   "outputs": [],
   "source": [
    "from rdkit.ML.Cluster import Butina\n",
    "from rdkit.Chem import rdMolAlign\n",
    "dists = []\n",
    "for i in range(len(cids)):\n",
    "    for j in range(i):\n",
    "        rms = rdMolAlign.GetBestRMS(mol, mol, i, j)\n",
    "        dists.append(rms)\n",
    "clusters = Butina.ClusterData(dists, len(cids), 1.5, isDistData=True)"
   ]
  },
  {
   "cell_type": "markdown",
   "id": "8ee9370b",
   "metadata": {},
   "source": [
    "### 3.4 Visualization of Centroids\n",
    "Users can select centroid conformers to visualize them in 3D using py3Dmol. This allows comparing conformational representatives interactively."
   ]
  },
  {
   "cell_type": "code",
   "execution_count": null,
   "id": "9a3f46e5",
   "metadata": {},
   "outputs": [],
   "source": [
    "import py3Dmol\n",
    "viewer = py3Dmol.view(width=400, height=400)\n",
    "mb = Chem.MolToMolBlock(mol, confId=centroid_id)\n",
    "viewer.addModel(mb, 'mol')\n",
    "viewer.setStyle({'stick': {}})\n",
    "viewer.zoomTo()"
   ]
  },
  {
   "cell_type": "markdown",
   "id": "3ba1c45a",
   "metadata": {},
   "source": [
    "### 3.5 Property Calculation for Centroids\n",
    "For each centroid conformer, the `calculate_properties()` function is used to compute relevant physicochemical descriptors. These include molecular weight, LogP, number of hydrogen bond donors/acceptors, TPSA, rotatable bonds, etc."
   ]
  },
  {
   "cell_type": "code",
   "execution_count": null,
   "id": "580cb817",
   "metadata": {},
   "outputs": [],
   "source": [
    "from chemcluster import calculate_properties\n",
    "props = calculate_properties(mol, mol_name=\"example\")"
   ]
  },
  {
   "cell_type": "markdown",
   "id": "7c4e4c9e",
   "metadata": {},
   "source": [
    "---\n",
    "\n",
    "## 4. Results and Observations\n",
    "\n",
    "This section provides a demonstration of ChemCluster’s capabilities through visual examples from the user interface.\n",
    "\n",
    "### 4.1 Interface Overview\n",
    "\n",
    "Launching ChemCluster brings up the main page where users can select between two analysis modes:\n",
    "\n",
    "![Main page](https://github.com/erubbia/ChemCluster/blob/main/assets/main_page.png?raw=true)\n",
    "\n",
    "---\n",
    "\n",
    "### 4.2 Dataset Mode – Clustering a Molecular Library\n",
    "\n",
    "Users can upload a dataset (e.g., in SMILES format), perform PCA dimensionality reduction, and cluster molecules using KMeans. Clusters are shown as colored groups on a scatter plot.\n",
    "\n",
    "![PCA plot](https://github.com/erubbia/ChemCluster/blob/main/assets/pca_plot.png?raw=true)\n",
    "\n",
    "Clicking on a molecule displays its 2D structure and computed properties:\n",
    "\n",
    "![Molecule selected](https://github.com/erubbia/ChemCluster/blob/main/assets/pca_plot2.png?raw=true)\n",
    "\n",
    "Filtering based on selected properties (e.g., LogP, TPSA) highlights matching clusters. Molecules from a selected cluster can then be exported as `.csv`.\n",
    "\n",
    "---\n",
    "\n",
    "### 4.3 Single Molecule Mode – Conformer Clustering\n",
    "\n",
    "In single molecule mode, a SMILES string is entered and 3D conformers are generated. These conformers are clustered using Butina clustering.\n",
    "\n",
    "Centroid conformers are displayed in 3D using Py3Dmol:\n",
    "\n",
    "![Centroid superposition](https://github.com/erubbia/ChemCluster/blob/main/assets/centroid_superposition.png?raw=true)\n"
   ]
  },
  {
   "cell_type": "markdown",
   "id": "8b2ae27b",
   "metadata": {},
   "source": [
    "---\n",
    "## 5. Underlying Algorithms and Tools"
   ]
  },
  {
   "cell_type": "markdown",
   "id": "dba2fb21",
   "metadata": {},
   "source": [
    "ChemCluster integrates several cheminformatics and data science algorithms to enable clustering, dimensionality reduction, and visualization of molecular data. This section outlines the most important computational techniques and their relevance to the application."
   ]
  },
  {
   "cell_type": "markdown",
   "id": "af52c24d",
   "metadata": {},
   "source": [
    "### 5.1 Principal Component Analysis (PCA)\n",
    "Principal Component Analysis (PCA) is used in ChemCluster to reduce the dimensionality of molecular descriptor space. Since pairwise Tanimoto distances result in a high-dimensional space (equal to the number of molecules), PCA allows projecting this data into two or three dimensions for visualization and clustering.\n",
    "\n",
    "PCA works by computing the eigenvectors of the covariance matrix and finding orthogonal axes (principal components) that capture the most variance."
   ]
  },
  {
   "cell_type": "code",
   "execution_count": null,
   "id": "b913b10f",
   "metadata": {},
   "outputs": [],
   "source": [
    "from sklearn.decomposition import PCA\n",
    "coords = PCA(n_components=2).fit_transform(dist_matrix)"
   ]
  },
  {
   "cell_type": "markdown",
   "id": "8d65c52d",
   "metadata": {},
   "source": [
    "### 5.2 KMeans Clustering\n",
    "KMeans is an unsupervised clustering algorithm used to partition the dataset into `k` clusters by minimizing the sum of squared distances between each point and the centroid of its assigned cluster. The optimal value of `k` is selected using the silhouette score, which balances inter-cluster separation and intra-cluster cohesion.\n",
    "\n",
    "KMeans assumes a Euclidean space and seeks compact, spherical clusters, which aligns with the reduced PCA space."
   ]
  },
  {
   "cell_type": "code",
   "execution_count": null,
   "id": "8525db46",
   "metadata": {},
   "outputs": [],
   "source": [
    "from sklearn.cluster import KMeans\n",
    "model = KMeans(n_clusters=best_k).fit(coords)\n",
    "labels = model.labels_"
   ]
  },
  {
   "cell_type": "markdown",
   "id": "bdc54191",
   "metadata": {},
   "source": [
    "### 5.3 Tanimoto Similarity and Fingerprints\n",
    "Tanimoto similarity is a measure commonly used to compare binary molecular fingerprints. It calculates the ratio of the intersection to the union of two bit vectors:\n",
    "\n",
    "$$\\text{Tanimoto}(A, B) = \\frac{|A \\cap B|}{|A \\cup B|}$$\n",
    "\n",
    "This metric is well-suited for comparing the presence or absence of chemical substructures. RDKit's `DataStructs.TanimotoSimilarity()` computes this efficiently from Morgan fingerprints."
   ]
  },
  {
   "cell_type": "markdown",
   "id": "1889e4fa",
   "metadata": {},
   "source": [
    "### 5.4 Butina Clustering\n",
    "For single molecule conformers, ChemCluster uses Butina clustering to group similar 3D conformers based on their pairwise RMSD distances. This algorithm constructs a distance matrix and applies a hierarchical, distance-based cutoff to form clusters without requiring a predefined number."
   ]
  },
  {
   "cell_type": "code",
   "execution_count": null,
   "id": "cdf98949",
   "metadata": {},
   "outputs": [],
   "source": [
    "from rdkit.ML.Cluster import Butina\n",
    "clusters = Butina.ClusterData(rmsd_values, numConfs, cutoff=1.5, isDistData=True)"
   ]
  },
  {
   "cell_type": "markdown",
   "id": "d575faa4",
   "metadata": {},
   "source": [
    "### 5.5 Interactive Visualization Tools\n",
    "- **`plotly_events()`** enables user interaction on the PCA scatter plot, allowing users to click and retrieve information about individual molecules.\n",
    "- **`py3Dmol`** is used to render 3D structures in the browser. It interprets mol-block data and displays conformers with interactive rotation and zoom capabilities.\n",
    "\n",
    "These tools enhance accessibility and allow hands-on exploration of chemical space and molecular shape diversity."
   ]
  },
  {
   "cell_type": "markdown",
   "id": "73f24104",
   "metadata": {},
   "source": [
    "---\n",
    "## 6. Testing and Validation"
   ]
  },
  {
   "cell_type": "markdown",
   "id": "f548ab53",
   "metadata": {},
   "source": [
    "To ensure reliability and maintainability, ChemCluster includes a suite of unit tests covering all core functionalities. These tests are located in the `tests/` directory and can be executed using either `pytest` or `tox`, ensuring compatibility across Python versions."
   ]
  },
  {
   "cell_type": "markdown",
   "id": "f4e1e91d",
   "metadata": {},
   "source": [
    "### 6.1 Coverage and Scope\n",
    "The following components are covered by unit tests:\n",
    "- `clean_smiles_list`: checks for SMILES parsing and molecule validity\n",
    "- `get_fingerprint`: verifies correct generation of Morgan fingerprints\n",
    "- `calculate_properties`: ensures property values match expected reference\n",
    "- `mol_to_base64_img`: validates base64 image string formatting\n",
    "- `show_3d_molecule`: checks py3Dmol viewer object creation"
   ]
  },
  {
   "cell_type": "markdown",
   "id": "6616aaf1",
   "metadata": {},
   "source": [
    "### 6.2 Example Test Snippet"
   ]
  },
  {
   "cell_type": "code",
   "execution_count": null,
   "id": "e1510e89",
   "metadata": {},
   "outputs": [],
   "source": [
    "def test_calculate_properties():\n",
    "    mol = Chem.MolFromSmiles(\"CCO\")  # ethanol\n",
    "    result = calculate_properties(mol, mol_name=\"ethanol\")\n",
    "    assert isinstance(result, dict)\n",
    "    assert abs(result[\"Molecular Weight\"] - 46.07) < 0.1"
   ]
  },
  {
   "cell_type": "markdown",
   "id": "96b58372",
   "metadata": {},
   "source": [
    "---\n",
    "## 7. Challenges Faced\n",
    "While the development of ChemCluster was overall successful and rewarding, some challenges we faced are the following:\n",
    "\n",
    "- **High dimensionality of molecular space:**  \n",
    "  Molecular fingerprints are often thousands of dimensions. Therefore, effective clustering relies on robust dimensionality reduction techniques. Naturally, important variance can still be lost.\n",
    "\n",
    "- **Molecular representation bottlenecks:**  \n",
    "  Traditional Morgan fingerprints may fail to capture finer details, such as complex electronic or stereochemical subtleties. This also impacts quality of the clustering.\n",
    "  \n",
    "- **Performance bottlenecks:**  \n",
    "  When processing more than 1000 molecules or generating large numbers of 3D conformers, the application experienced noticeable slowdowns. This could be mainly due to the computational cost of fingerprint comparison, distance matrix construction, and 3D optimization.\n",
    "\n",
    "- **Errors in SMILES parsing:**  \n",
    "  Molecules may pass the initial SMILES validity check, but fail at 3D embedding. As a consquence, there were occasionally incorrect or unexpected geometries, especially for stereochemically rich or flexible molecules. \n",
    "\n",
    "- **Cross-platform compatibility and Streamlit limitations:**  \n",
    "  The app’s frontend, built with Streamlit, showed slight differences between platforms (notably Windows vs. macOS), such as font rendering and responsiveness. Some third-party components like `streamlit_plotly_events` or `py3Dmol` also required version-specific fixes or careful dependency management.\n",
    "\n",
    "These issues were mitigated through automatic molecule cleaning, limitation of dataset size, and standardization of 3D visualization settings. While not fully resolved, they are documented and provide a clear direction for future improvements.\n",
    "\n"
   ]
  },
  {
   "cell_type": "markdown",
   "id": "13baffe9",
   "metadata": {},
   "source": [
    "---\n",
    "## 8. Conclusion and Outlook\n",
    "\n",
    "The development of ChemCluster provided valuable insights into the challenges and potential of combining cheminformatics tools with unsupervised machine learning techniques. The application has successfully enabled both conformer-based and fingerprint-based molecular clustering, while also offering interactive visualization and analysis via a Streamlit interface. \n",
    "\n",
    "Naturally, there still remains areas of improvement:\n",
    "\n",
    "- **Improving molecular representations:**  \n",
    "  A promising direction would be to use learned molecular embeddings, such as those generated from transformer-based models like ChemBERTa; the latter encodes richer chemical context by leveraging large-scale molecular data during pretraining.\n",
    "\n",
    "- **Explore alternative clustering algorithms:**  \n",
    " Instead of using KMeans, different unsupervised clustering algorithms such as DBSCAN or Agglomerative clustering. \n",
    "\n",
    "- **Explore alternative similarity metrics:**  \n",
    " Conformer clustering currently relies on RMSD, which measures geometrical alignment but not energetic or functional similarity. Therefore, it would be interesting to use metrics based on conformer energy differences, shape overlap and pharmacophoric feature. This would offer more chemically meaningful clustering, particularly in the context of bioactive conformations.\n",
    "\n",
    "- **Investigation of hydrogen bonding interactions:**  \n",
    "Extending the current pipeline to identify and visualize H-bonding networks between conformer centroids in solution could reveal solvation effects. Thus, this could be especially valuable for applications involving transition state sampling (e.g. in computational chemistry), where conformer bias can greatly affect kinetic predictions.\n",
    "\n",
    "In summary, addressing these new directions, ChemCluster could evolve into a more robust platform for both molecular clustering and conformational analysis. "
   ]
  }
 ],
 "metadata": {
  "kernelspec": {
   "display_name": "chemcluster-env",
   "language": "python",
   "name": "python3"
  },
  "language_info": {
   "codemirror_mode": {
    "name": "ipython",
    "version": 3
   },
   "file_extension": ".py",
   "mimetype": "text/x-python",
   "name": "python",
   "nbconvert_exporter": "python",
   "pygments_lexer": "ipython3",
   "version": "3.10.17"
  }
 },
 "nbformat": 4,
 "nbformat_minor": 5
}
